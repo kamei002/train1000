{
 "cells": [
  {
   "cell_type": "code",
   "execution_count": 1,
   "metadata": {},
   "outputs": [
    {
     "name": "stderr",
     "output_type": "stream",
     "text": [
      "Using TensorFlow backend.\n"
     ]
    }
   ],
   "source": [
    "from model import Model"
   ]
  },
  {
   "cell_type": "code",
   "execution_count": 2,
   "metadata": {},
   "outputs": [
    {
     "name": "stdout",
     "output_type": "stream",
     "text": [
      "_________________________________________________________________\n",
      "Layer (type)                 Output Shape              Param #   \n",
      "=================================================================\n",
      "conv2d_1 (Conv2D)            (None, 32, 32, 32)        896       \n",
      "_________________________________________________________________\n",
      "conv2d_2 (Conv2D)            (None, 32, 32, 32)        9248      \n",
      "_________________________________________________________________\n",
      "max_pooling2d_1 (MaxPooling2 (None, 16, 16, 32)        0         \n",
      "_________________________________________________________________\n",
      "dropout_1 (Dropout)          (None, 16, 16, 32)        0         \n",
      "_________________________________________________________________\n",
      "conv2d_3 (Conv2D)            (None, 16, 16, 64)        18496     \n",
      "_________________________________________________________________\n",
      "conv2d_4 (Conv2D)            (None, 16, 16, 64)        36928     \n",
      "_________________________________________________________________\n",
      "max_pooling2d_2 (MaxPooling2 (None, 8, 8, 64)          0         \n",
      "_________________________________________________________________\n",
      "flatten_1 (Flatten)          (None, 4096)              0         \n",
      "_________________________________________________________________\n",
      "dense_1 (Dense)              (None, 512)               2097664   \n",
      "_________________________________________________________________\n",
      "dropout_2 (Dropout)          (None, 512)               0         \n",
      "_________________________________________________________________\n",
      "dense_2 (Dense)              (None, 10)                5130      \n",
      "_________________________________________________________________\n",
      "activation_1 (Activation)    (None, 10)                0         \n",
      "=================================================================\n",
      "Total params: 2,168,362\n",
      "Trainable params: 2,168,362\n",
      "Non-trainable params: 0\n",
      "_________________________________________________________________\n",
      "None\n",
      "Epoch 1/2000\n",
      "100/100 [==============================] - 4s 35ms/step - loss: 2.1878 - acc: 0.1710 - val_loss: 2.0035 - val_acc: 0.2584\n",
      "Epoch 2/2000\n",
      "100/100 [==============================] - 2s 25ms/step - loss: 2.0213 - acc: 0.2484 - val_loss: 1.9571 - val_acc: 0.2866\n",
      "Epoch 3/2000\n",
      "100/100 [==============================] - 3s 26ms/step - loss: 1.9444 - acc: 0.2750 - val_loss: 1.8534 - val_acc: 0.3522\n",
      "Epoch 4/2000\n",
      "100/100 [==============================] - 2s 25ms/step - loss: 1.8621 - acc: 0.3215 - val_loss: 1.7613 - val_acc: 0.3792\n",
      "Epoch 5/2000\n",
      "100/100 [==============================] - 2s 24ms/step - loss: 1.7821 - acc: 0.3504 - val_loss: 1.7067 - val_acc: 0.3883\n",
      "Epoch 6/2000\n",
      "100/100 [==============================] - 2s 25ms/step - loss: 1.7122 - acc: 0.3748 - val_loss: 1.6493 - val_acc: 0.4079\n",
      "Epoch 7/2000\n",
      "100/100 [==============================] - 2s 25ms/step - loss: 1.6450 - acc: 0.3921 - val_loss: 1.5947 - val_acc: 0.4199\n",
      "Epoch 8/2000\n",
      "100/100 [==============================] - 2s 25ms/step - loss: 1.5858 - acc: 0.4191 - val_loss: 1.5749 - val_acc: 0.4292\n",
      "Epoch 9/2000\n",
      "100/100 [==============================] - 2s 25ms/step - loss: 1.5089 - acc: 0.4424 - val_loss: 1.5389 - val_acc: 0.4447\n",
      "Epoch 10/2000\n",
      "100/100 [==============================] - 2s 24ms/step - loss: 1.4586 - acc: 0.4615 - val_loss: 1.5284 - val_acc: 0.4377\n",
      "Epoch 11/2000\n",
      "100/100 [==============================] - 2s 25ms/step - loss: 1.4009 - acc: 0.4801 - val_loss: 1.5262 - val_acc: 0.4503\n",
      "Epoch 12/2000\n",
      "100/100 [==============================] - 2s 25ms/step - loss: 1.3449 - acc: 0.5015 - val_loss: 1.5582 - val_acc: 0.4481\n",
      "Epoch 13/2000\n",
      "100/100 [==============================] - 2s 24ms/step - loss: 1.2867 - acc: 0.5241 - val_loss: 1.5065 - val_acc: 0.4640\n",
      "Epoch 14/2000\n",
      "100/100 [==============================] - 2s 24ms/step - loss: 1.2183 - acc: 0.5445 - val_loss: 1.5687 - val_acc: 0.4641\n",
      "Epoch 15/2000\n",
      "100/100 [==============================] - 2s 25ms/step - loss: 1.1777 - acc: 0.5629 - val_loss: 1.6167 - val_acc: 0.4590\n",
      "Epoch 16/2000\n",
      "100/100 [==============================] - 2s 25ms/step - loss: 1.1055 - acc: 0.5894 - val_loss: 1.5673 - val_acc: 0.4694\n",
      "\n",
      "Epoch 00016: ReduceLROnPlateau reducing learning rate to 0.0009999999776482583.\n",
      "Epoch 17/2000\n",
      "100/100 [==============================] - 2s 24ms/step - loss: 1.0290 - acc: 0.6234 - val_loss: 1.5955 - val_acc: 0.4764\n",
      "Epoch 18/2000\n",
      "100/100 [==============================] - 2s 25ms/step - loss: 0.9532 - acc: 0.6520 - val_loss: 1.6398 - val_acc: 0.4753\n",
      "Epoch 19/2000\n",
      "100/100 [==============================] - 2s 25ms/step - loss: 0.9440 - acc: 0.6527 - val_loss: 1.6551 - val_acc: 0.4788\n",
      "\n",
      "Epoch 00019: ReduceLROnPlateau reducing learning rate to 9.999999310821295e-05.\n",
      "Epoch 20/2000\n",
      "100/100 [==============================] - 2s 25ms/step - loss: 0.9156 - acc: 0.6620 - val_loss: 1.6518 - val_acc: 0.4792\n",
      "Epoch 21/2000\n",
      "100/100 [==============================] - 2s 25ms/step - loss: 0.9120 - acc: 0.6683 - val_loss: 1.6462 - val_acc: 0.4814\n",
      "Epoch 22/2000\n",
      "100/100 [==============================] - 2s 25ms/step - loss: 0.9086 - acc: 0.6676 - val_loss: 1.6480 - val_acc: 0.4794\n",
      "\n",
      "Epoch 00022: ReduceLROnPlateau reducing learning rate to 9.999999019782991e-06.\n",
      "Epoch 23/2000\n",
      "100/100 [==============================] - 2s 25ms/step - loss: 0.9152 - acc: 0.6644 - val_loss: 1.6505 - val_acc: 0.4811\n",
      "Epoch 00023: early stopping\n"
     ]
    }
   ],
   "source": [
    "model = Model()\n",
    "model.train()"
   ]
  },
  {
   "cell_type": "code",
   "execution_count": null,
   "metadata": {},
   "outputs": [],
   "source": []
  }
 ],
 "metadata": {
  "kernelspec": {
   "display_name": "Python 3",
   "language": "python",
   "name": "python3"
  },
  "language_info": {
   "codemirror_mode": {
    "name": "ipython",
    "version": 3
   },
   "file_extension": ".py",
   "mimetype": "text/x-python",
   "name": "python",
   "nbconvert_exporter": "python",
   "pygments_lexer": "ipython3",
   "version": "3.5.2"
  }
 },
 "nbformat": 4,
 "nbformat_minor": 2
}
