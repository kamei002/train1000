{
 "cells": [
  {
   "cell_type": "code",
   "execution_count": 1,
   "metadata": {},
   "outputs": [
    {
     "name": "stderr",
     "output_type": "stream",
     "text": [
      "Using TensorFlow backend.\n"
     ]
    }
   ],
   "source": [
    "from model import Model\n",
    "import matplotlib as plt"
   ]
  },
  {
   "cell_type": "code",
   "execution_count": 2,
   "metadata": {},
   "outputs": [
    {
     "name": "stdout",
     "output_type": "stream",
     "text": [
      "_________________________________________________________________\n",
      "Layer (type)                 Output Shape              Param #   \n",
      "=================================================================\n",
      "conv2d_1 (Conv2D)            (None, 32, 32, 32)        896       \n",
      "_________________________________________________________________\n",
      "batch_normalization_1 (Batch (None, 32, 32, 32)        128       \n",
      "_________________________________________________________________\n",
      "conv2d_2 (Conv2D)            (None, 32, 32, 32)        9248      \n",
      "_________________________________________________________________\n",
      "max_pooling2d_1 (MaxPooling2 (None, 16, 16, 32)        0         \n",
      "_________________________________________________________________\n",
      "conv2d_3 (Conv2D)            (None, 16, 16, 64)        18496     \n",
      "_________________________________________________________________\n",
      "conv2d_4 (Conv2D)            (None, 16, 16, 64)        36928     \n",
      "_________________________________________________________________\n",
      "max_pooling2d_2 (MaxPooling2 (None, 8, 8, 64)          0         \n",
      "_________________________________________________________________\n",
      "flatten_1 (Flatten)          (None, 4096)              0         \n",
      "_________________________________________________________________\n",
      "dense_1 (Dense)              (None, 512)               2097664   \n",
      "_________________________________________________________________\n",
      "dropout_1 (Dropout)          (None, 512)               0         \n",
      "_________________________________________________________________\n",
      "dense_2 (Dense)              (None, 10)                5130      \n",
      "_________________________________________________________________\n",
      "activation_1 (Activation)    (None, 10)                0         \n",
      "=================================================================\n",
      "Total params: 2,168,490\n",
      "Trainable params: 2,168,426\n",
      "Non-trainable params: 64\n",
      "_________________________________________________________________\n",
      "None\n",
      "Epoch 1/2000\n",
      "100/100 [==============================] - 3s 32ms/step - loss: 2.0138 - acc: 0.2488 - val_loss: 1.8233 - val_acc: 0.3435\n",
      "Epoch 2/2000\n",
      "100/100 [==============================] - 2s 25ms/step - loss: 1.6987 - acc: 0.3670 - val_loss: 1.8288 - val_acc: 0.3679\n",
      "Epoch 3/2000\n",
      "100/100 [==============================] - 2s 25ms/step - loss: 1.5373 - acc: 0.4298 - val_loss: 1.7194 - val_acc: 0.4035\n",
      "Epoch 4/2000\n",
      "100/100 [==============================] - 2s 25ms/step - loss: 1.4095 - acc: 0.4816 - val_loss: 1.4623 - val_acc: 0.4666\n",
      "Epoch 5/2000\n",
      "100/100 [==============================] - 2s 25ms/step - loss: 1.3012 - acc: 0.5217 - val_loss: 1.5748 - val_acc: 0.4468\n",
      "Epoch 6/2000\n",
      "100/100 [==============================] - 2s 25ms/step - loss: 1.1935 - acc: 0.5560 - val_loss: 1.9197 - val_acc: 0.4296\n",
      "Epoch 7/2000\n",
      "100/100 [==============================] - 2s 25ms/step - loss: 1.0750 - acc: 0.6039 - val_loss: 1.7998 - val_acc: 0.4629\n",
      "\n",
      "Epoch 00007: ReduceLROnPlateau reducing learning rate to 0.0009999999776482583.\n",
      "Epoch 8/2000\n",
      "100/100 [==============================] - 2s 25ms/step - loss: 0.9603 - acc: 0.6444 - val_loss: 1.5419 - val_acc: 0.5046\n",
      "Epoch 9/2000\n",
      "100/100 [==============================] - 2s 25ms/step - loss: 0.8509 - acc: 0.6897 - val_loss: 1.5598 - val_acc: 0.5095\n",
      "Epoch 10/2000\n",
      "100/100 [==============================] - 2s 25ms/step - loss: 0.8139 - acc: 0.7041 - val_loss: 1.5998 - val_acc: 0.5066\n",
      "\n",
      "Epoch 00010: ReduceLROnPlateau reducing learning rate to 9.999999310821295e-05.\n",
      "Epoch 11/2000\n",
      "100/100 [==============================] - 2s 25ms/step - loss: 0.7940 - acc: 0.7098 - val_loss: 1.6408 - val_acc: 0.5051\n",
      "Epoch 12/2000\n",
      "100/100 [==============================] - 2s 25ms/step - loss: 0.7797 - acc: 0.7177 - val_loss: 1.6392 - val_acc: 0.5057\n",
      "Epoch 13/2000\n",
      "100/100 [==============================] - 2s 25ms/step - loss: 0.7787 - acc: 0.7190 - val_loss: 1.6688 - val_acc: 0.5033\n",
      "\n",
      "Epoch 00013: ReduceLROnPlateau reducing learning rate to 9.999999019782991e-06.\n",
      "Epoch 14/2000\n",
      "100/100 [==============================] - 2s 25ms/step - loss: 0.7623 - acc: 0.7216 - val_loss: 1.6639 - val_acc: 0.5043\n",
      "Epoch 00014: early stopping\n"
     ]
    }
   ],
   "source": [
    "model = Model()\n",
    "model.train()"
   ]
  },
  {
   "cell_type": "code",
   "execution_count": 3,
   "metadata": {},
   "outputs": [
    {
     "name": "stdout",
     "output_type": "stream",
     "text": [
      "_________________________________________________________________\n",
      "Layer (type)                 Output Shape              Param #   \n",
      "=================================================================\n",
      "conv2d_5 (Conv2D)            (None, 32, 32, 32)        896       \n",
      "_________________________________________________________________\n",
      "batch_normalization_2 (Batch (None, 32, 32, 32)        128       \n",
      "_________________________________________________________________\n",
      "conv2d_6 (Conv2D)            (None, 32, 32, 32)        9248      \n",
      "_________________________________________________________________\n",
      "max_pooling2d_3 (MaxPooling2 (None, 16, 16, 32)        0         \n",
      "_________________________________________________________________\n",
      "conv2d_7 (Conv2D)            (None, 16, 16, 64)        18496     \n",
      "_________________________________________________________________\n",
      "conv2d_8 (Conv2D)            (None, 16, 16, 64)        36928     \n",
      "_________________________________________________________________\n",
      "max_pooling2d_4 (MaxPooling2 (None, 8, 8, 64)          0         \n",
      "_________________________________________________________________\n",
      "flatten_2 (Flatten)          (None, 4096)              0         \n",
      "_________________________________________________________________\n",
      "dense_3 (Dense)              (None, 512)               2097664   \n",
      "_________________________________________________________________\n",
      "dropout_2 (Dropout)          (None, 512)               0         \n",
      "_________________________________________________________________\n",
      "dense_4 (Dense)              (None, 10)                5130      \n",
      "_________________________________________________________________\n",
      "activation_2 (Activation)    (None, 10)                0         \n",
      "=================================================================\n",
      "Total params: 2,168,490\n",
      "Trainable params: 2,168,426\n",
      "Non-trainable params: 64\n",
      "_________________________________________________________________\n",
      "None\n"
     ]
    }
   ],
   "source": [
    "import keras\n",
    "keras.utils.plot_model(model.build_model(10), to_file='model.png')"
   ]
  },
  {
   "cell_type": "code",
   "execution_count": null,
   "metadata": {},
   "outputs": [],
   "source": []
  }
 ],
 "metadata": {
  "kernelspec": {
   "display_name": "Python 3",
   "language": "python",
   "name": "python3"
  },
  "language_info": {
   "codemirror_mode": {
    "name": "ipython",
    "version": 3
   },
   "file_extension": ".py",
   "mimetype": "text/x-python",
   "name": "python",
   "nbconvert_exporter": "python",
   "pygments_lexer": "ipython3",
   "version": "3.5.2"
  }
 },
 "nbformat": 4,
 "nbformat_minor": 2
}
